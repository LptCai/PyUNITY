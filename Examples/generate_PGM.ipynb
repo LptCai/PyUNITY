{
 "cells": [
  {
   "cell_type": "code",
   "execution_count": 1,
   "metadata": {
    "collapsed": false
   },
   "outputs": [
    {
     "name": "stdout",
     "output_type": "stream",
     "text": [
      "Populating the interactive namespace from numpy and matplotlib\n"
     ]
    }
   ],
   "source": [
    "%pylab inline"
   ]
  },
  {
   "cell_type": "code",
   "execution_count": 2,
   "metadata": {
    "collapsed": true
   },
   "outputs": [],
   "source": [
    "from matplotlib import rc\n",
    "from daft import PGM, Node, Plate"
   ]
  },
  {
   "cell_type": "code",
   "execution_count": 3,
   "metadata": {
    "collapsed": true
   },
   "outputs": [],
   "source": [
    "rc(\"font\", family=\"serif\", size=12)\n",
    "rc(\"text\", usetex=True)\n",
    "pgm = PGM([6, 5.2], origin=[0., 0.2], observed_style='inner')"
   ]
  },
  {
   "cell_type": "code",
   "execution_count": 4,
   "metadata": {
    "collapsed": false
   },
   "outputs": [
    {
     "data": {
      "text/plain": [
       "<daft.Node at 0x1027c5990>"
      ]
     },
     "execution_count": 4,
     "metadata": {},
     "output_type": "execute_result"
    }
   ],
   "source": [
    "# Cosmological parameters on top line\n",
    "pgm.add_node(Node(\"cosmology\", r\"$\\Omega_M$\", 2, 5))\n",
    "\n",
    "# Nuisance parameters on top line\n",
    "pgm.add_node(Node(\"alpha_beta\", r\"$\\alpha, \\beta$\", 3, 5))\n",
    "pgm.add_node(Node(\"absolute_mag\", r\"$M_B$\", 4, 5))"
   ]
  },
  {
   "cell_type": "code",
   "execution_count": 5,
   "metadata": {
    "collapsed": true
   },
   "outputs": [],
   "source": [
    "# Big Plate: Samples\n",
    "pgm.add_plate(Plate([0.5, 0.5, 5, 4.],\n",
    "                    label=r\"Samples $j = 1, \\cdots, N_{\\rm samp}$\",\n",
    "                    shift=-0.1))"
   ]
  },
  {
   "cell_type": "code",
   "execution_count": 6,
   "metadata": {
    "collapsed": false
   },
   "outputs": [
    {
     "data": {
      "text/plain": [
       "<daft.Node at 0x1027c5b10>"
      ]
     },
     "execution_count": 6,
     "metadata": {},
     "output_type": "execute_result"
    }
   ],
   "source": [
    "#  x_1, c, and sigma_int distributions in samples plate\n",
    "pgm.add_node(Node(\"x1dist\", r\"$x_1^{\\mathrm{dist}}$\", 1, 4))\n",
    "pgm.add_node(Node(\"cdist\", r\"$c^{\\mathrm{dist}}$\", 5, 4))\n",
    "\n",
    "pgm.add_node(Node(\"sigdist\", r\"$\\sigma_{\\mathrm{int}}^{\\mathrm{dist}}$\",1, 2.5))"
   ]
  },
  {
   "cell_type": "code",
   "execution_count": 7,
   "metadata": {
    "collapsed": true
   },
   "outputs": [],
   "source": [
    "# Small Plate: SNe\n",
    "pgm.add_plate(Plate([1.5, 1., 3., 3.],\n",
    "                    label=r\"SNe $i = 1, \\cdots, N_{\\rm SN}$\",\n",
    "                    shift=-0.1))"
   ]
  },
  {
   "cell_type": "code",
   "execution_count": 8,
   "metadata": {
    "collapsed": false
   },
   "outputs": [
    {
     "data": {
      "text/plain": [
       "<daft.Node at 0x107685150>"
      ]
     },
     "execution_count": 8,
     "metadata": {},
     "output_type": "execute_result"
    }
   ],
   "source": [
    "# Per-SN parameters:  top line in the plate\n",
    "pgm.add_node(Node(\"x1itrue\", r\"$x_{1,i}^\\mathrm{true}$\", 2, 3.5))\n",
    "pgm.add_node(Node(\"citrue\", r\"$c_i^\\mathrm{true}$\", 4, 3.5))"
   ]
  },
  {
   "cell_type": "code",
   "execution_count": 9,
   "metadata": {
    "collapsed": false
   },
   "outputs": [
    {
     "data": {
      "text/plain": [
       "<daft.Node at 0x1076854d0>"
      ]
     },
     "execution_count": 9,
     "metadata": {},
     "output_type": "execute_result"
    }
   ],
   "source": [
    "# Per-SN parameters: \n",
    "pgm.add_node(Node(\"mB\", r\"$m_{B,i}$\", 3, 3.2, fixed=True, offset = (-17,-17)))\n",
    "pgm.add_node(Node(\"mBtrue\", r\"$m_{B,i}^{\\mathrm{true}}$\", 3, 2.5))"
   ]
  },
  {
   "cell_type": "code",
   "execution_count": 10,
   "metadata": {
    "collapsed": false
   },
   "outputs": [
    {
     "data": {
      "text/plain": [
       "<daft.Node at 0x107685610>"
      ]
     },
     "execution_count": 10,
     "metadata": {},
     "output_type": "execute_result"
    }
   ],
   "source": [
    "# Per-SN parameters: Observed parameters in bottom line of SNe plate\n",
    "# redshift\n",
    "pgm.add_node(Node(\"zi\", r\"$z_i$\", 4, 1.5, observed=True))\n",
    "\n",
    "# observed data: m_B, x_1, c\n",
    "pgm.add_node(Node(\"data\", r\"$\\mathrm{data}^{\\mathrm{obs}}_i$\", 2.5, 1.5,aspect=2.0, observed=True))"
   ]
  },
  {
   "cell_type": "code",
   "execution_count": 11,
   "metadata": {
    "collapsed": false
   },
   "outputs": [
    {
     "data": {
      "text/plain": [
       "<daft.Edge at 0x10772a4d0>"
      ]
     },
     "execution_count": 11,
     "metadata": {},
     "output_type": "execute_result"
    }
   ],
   "source": [
    "# Add in the edges.\n",
    "pgm.add_edge(\"x1dist\", \"x1itrue\")\n",
    "pgm.add_edge(\"cdist\", \"citrue\")\n",
    "\n",
    "\n",
    "pgm.add_edge(\"x1itrue\", \"mB\")\n",
    "pgm.add_edge(\"citrue\", \"mB\")\n",
    "\n",
    "pgm.add_edge(\"cosmology\", \"mB\")\n",
    "pgm.add_edge(\"alpha_beta\", \"mB\")\n",
    "pgm.add_edge(\"absolute_mag\", \"mB\")\n",
    "\n",
    "pgm.add_edge(\"zi\", \"mB\")\n",
    "\n",
    "pgm.add_edge(\"mB\", \"mBtrue\")\n",
    "\n",
    "pgm.add_edge(\"sigdist\", \"mBtrue\")\n",
    "\n",
    "pgm.add_edge(\"mBtrue\", \"data\")\n"
   ]
  },
  {
   "cell_type": "code",
   "execution_count": 12,
   "metadata": {
    "collapsed": false
   },
   "outputs": [
    {
     "data": {
      "text/plain": [
       "<matplotlib.axes._axes.Axes at 0x107685a90>"
      ]
     },
     "execution_count": 12,
     "metadata": {},
     "output_type": "execute_result"
    },
    {
     "data": {
      "image/png": "[encoded data removed]",
      "text/plain": [
       "<matplotlib.figure.Figure at 0x107675bd0>"
      ]
     },
     "metadata": {},
     "output_type": "display_data"
    }
   ],
   "source": [
    "# Render and save.\n",
    "pgm.render()\n",
    "#pgm.figure.savefig(\"snpgm_basic.png\", dpi=150)"
   ]
  },
  {
   "cell_type": "code",
   "execution_count": null,
   "metadata": {
    "collapsed": true
   },
   "outputs": [],
   "source": []
  }
 ],
 "metadata": {
  "kernelspec": {
   "display_name": "Python 2",
   "language": "python",
   "name": "python2"
  },
  "language_info": {
   "codemirror_mode": {
    "name": "ipython",
    "version": 2
   },
   "file_extension": ".py",
   "mimetype": "text/x-python",
   "name": "python",
   "nbconvert_exporter": "python",
   "pygments_lexer": "ipython2",
   "version": "2.7.10"
  }
 },
 "nbformat": 4,
 "nbformat_minor": 0
}
