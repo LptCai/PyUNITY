{
 "cells": [
  {
   "cell_type": "markdown",
   "metadata": {},
   "source": [
    "## Generate a mock data set based on method outlined in Rubin et al 2015"
   ]
  },
  {
   "cell_type": "code",
   "execution_count": 1,
   "metadata": {
    "collapsed": false
   },
   "outputs": [
    {
     "name": "stdout",
     "output_type": "stream",
     "text": [
      "Populating the interactive namespace from numpy and matplotlib\n"
     ]
    }
   ],
   "source": [
    "%pylab inline"
   ]
  },
  {
   "cell_type": "code",
   "execution_count": 47,
   "metadata": {
    "collapsed": false
   },
   "outputs": [],
   "source": [
    "import numpy as np\n",
    "import matplotlib.pylab as plt\n",
    "import sncosmo\n",
    "from astropy.cosmology import FlatLambdaCDM\n",
    "from astropy.table import Table\n",
    "import scipy.stats as stats"
   ]
  },
  {
   "cell_type": "markdown",
   "metadata": {},
   "source": [
    "Create 4 data sets in ranges:\n",
    "\n",
    "0.02 - 0.05 : N = 250, zp uncertainty = 0.01 mag\n",
    "\n",
    "0.05 - 0.4  : N = 250, zp uncertainty = 0.01 mag\n",
    "\n",
    "0.2  - 1.0  : N = 250, zp uncertainty = 0.01 mag\n",
    "\n",
    "0.7  - 1.4  : N = 50,  zp uncertainty = 0.02 mag\n",
    "\n",
    "\n",
    "x1: unit normal distribution centered on zero\n",
    "\n",
    "c : sum of Gaussian distribution with width 0.1 mag and an exponential function with rate 1/0.1 mag. Centered on zero\n",
    "\n",
    "uncertainties (Gaussian independent): \n",
    "\n",
    "0.05 mB, 0.5 x1, 0.05 c, 0.1 mag unexplained, 0.093z mag of lensing dispersion, 300 km/s peculiar velocity\n",
    "zeropoint uncertainties: 0.01, 0.01, 0.01, 0.02 \n",
    "\n",
    "alpha = 0.13, beta = 3.0, MB = -19.1 mag, Omega_M = 0.3 (flat LCDM)\n",
    "\n",
    "delta(0) = 0.08 mag\n",
    "\n",
    "delta(inf)/delta(0) : uniform distribution between 0 and 1\n",
    "\n",
    "Assume 3 percent are outliers. Draw their observed distribution centered around the normal Ia mB for that redshift. and around zero in x1 and c. The spread is 1,2, and 0.5 in mB,x1, and c. Assume distributions are Gaussian and uncorrelated\n",
    "\n",
    "Selection effects in mB with width 0.2 mag. \n",
    "Selection cus are chosen for 50% completeness at z = 0.08, 0.25, 0.6, 1.45 .\n",
    "Randomly draw from the population distributions an dpass them throug the simulated selection effects until required number of SNe are gnerated\n",
    "\n",
    "Redshift distribution of SNe scales linearly wiht redshift starting form the minimum redshift of each sample\n",
    "\n",
    "\n",
    "mu_Bi^obs = m_Bi^obs + alpha * x_1i^obs - beta * c_i^obs + delta(M_star > 10^10) - M_B\n"
   ]
  },
  {
   "cell_type": "code",
   "execution_count": 3,
   "metadata": {
    "collapsed": true
   },
   "outputs": [],
   "source": [
    "alpha   = 0.13\n",
    "beta    = 3.0\n",
    "M_B     = -19.1\n",
    "Omega_M = 0.3\n",
    "\n",
    "delta_zero = 0.08 #mag\n",
    "\n",
    "cosmo = FlatLambdaCDM(H0=70, Om0=Omega_M)"
   ]
  },
  {
   "cell_type": "code",
   "execution_count": 4,
   "metadata": {
    "collapsed": true
   },
   "outputs": [],
   "source": [
    "## Define Constant mass-standardization\n",
    "\n",
    "def delta(z):\n",
    "    delta_inf_over_zero = stats.uniform.rvs(loc=0, scale=1, size = 1)\n",
    "    return delta_zero * ( 1.9*(1.0 - delta_inf_over_zero )/(0.9 + 10.0**(0.95*z)) + delta_inf_over_zero)  \n"
   ]
  },
  {
   "cell_type": "code",
   "execution_count": 5,
   "metadata": {
    "collapsed": true
   },
   "outputs": [],
   "source": [
    "# x1 distribution\n",
    "#x1 = stats.norm.rvs(loc = 0.0, scale = 0.1,  size=1000)"
   ]
  },
  {
   "cell_type": "code",
   "execution_count": 6,
   "metadata": {
    "collapsed": false
   },
   "outputs": [],
   "source": [
    "## c distribution\n",
    "#  K=1/σλ = 1/(0.1/0.1) = 1\n",
    "\n",
    "#c = stats.exponnorm.rvs(loc = 0.0, scale = 0.1, K = 1.0, size=1000)"
   ]
  },
  {
   "cell_type": "code",
   "execution_count": 7,
   "metadata": {
    "collapsed": false
   },
   "outputs": [],
   "source": [
    "## mB\n",
    "\n",
    "def mB_center(z):\n",
    "    return 5.0*np.log10(cosmo.luminosity_distance(z).value / 10.**(-5.) ) + M_B\n",
    "\n",
    "#mB = stats.norm.rvs(loc = mB_center(z), scale = 0.20,  size=1000)\n",
    "    "
   ]
  },
  {
   "cell_type": "code",
   "execution_count": 8,
   "metadata": {
    "collapsed": false
   },
   "outputs": [],
   "source": [
    "# uncertainties\n",
    "\n",
    "sigma_mB = 0.05\n",
    "sigma_x1 = 0.5\n",
    "sigma_c  = 0.05\n",
    "sigma_unexplained = 0.1 #mag\n",
    "\n",
    "def sigma_lens(z):\n",
    "    return 0.093*z # mag\n",
    "\n",
    "sigma_PV = 300 #km/s\n",
    "\n",
    "sigma_zp = np.array([0.01, 0.01, 0.01, 0.02])"
   ]
  },
  {
   "cell_type": "code",
   "execution_count": 9,
   "metadata": {
    "collapsed": false
   },
   "outputs": [],
   "source": [
    "# 3 % outliers\n",
    "\n",
    "#mB_out = stats.norm.rvs(loc = mB_center(z), scale = 1.0,  size=1000*0.03)\n",
    "#x1_out = stats.norm.rvs(loc = 0.0,   scale = 2.0,  size=1000*0.03)\n",
    "#c_out  = stats.norm.rvs(loc = 0.0,   scale = 0.5,  size=1000*0.03)"
   ]
  },
  {
   "cell_type": "code",
   "execution_count": 10,
   "metadata": {
    "collapsed": false
   },
   "outputs": [],
   "source": [
    "# redshift distributions\n",
    "## not correct\n",
    "\n",
    "class linear_gen(stats.rv_continuous):\n",
    "    \"Linear distribution\"\n",
    "    def _pdf(self, x, z0, z1):\n",
    "        m = 1.0 / (0.5*(z1*z1-z0*z0)-z0*(z1-z0))\n",
    "        c = - m * z0\n",
    "        return m*x + c #(x-a)/(b-a) #k*x + m\n"
   ]
  },
  {
   "cell_type": "code",
   "execution_count": 11,
   "metadata": {
    "collapsed": true
   },
   "outputs": [],
   "source": [
    "#class erflike_gen(stats.rv_continuous):\n",
    "#    \"Erf-like distribution\"\n",
    "#    def _pdf(self, x, z_cent): \n",
    "#        f = lambda x : (stats.norm.sf(x, loc=z_cent, scale=0.2))\n",
    "#        y,err = quad(f, 0, np.inf)\n",
    "#        return (1./y)*(stats.norm.sf(x, loc=z_cent, scale=0.2)) #(x-a)/(b-a) #k*x + m"
   ]
  },
  {
   "cell_type": "code",
   "execution_count": 12,
   "metadata": {
    "collapsed": true
   },
   "outputs": [],
   "source": [
    "#class erflin_gen(stats.rv_continuous):\n",
    "#    \"Erf-like plus linear distribution\"\n",
    "#    def _pdf(self, x, z_cent, z0, z1): \n",
    "#        m = 1.0 / (0.5*(z1*z1-z0*z0)-z0*(z1-z0))\n",
    "#        c = - m * z0\n",
    "#        #return m*x + b\n",
    "#        #f = lambda x : (stats.norm.sf(x, loc=z_cent, scale=0.2)*( m*x + b) )\n",
    "#        #y,err = quad(f, 0, np.inf)\n",
    "#        return (1./2.7753780074995613)*(stats.norm.sf(x, loc=z_cent, scale=0.2)) * ( m*x + c)  #(x-a)/(b-a) #k*x + m"
   ]
  },
  {
   "cell_type": "code",
   "execution_count": 13,
   "metadata": {
    "collapsed": false
   },
   "outputs": [],
   "source": [
    "linearlow= linear_gen(name='linear', a =0.02, b = 0.05 )\n",
    "linearmedlow= linear_gen(name='linear', a =0.05, b = 0.4 )\n",
    "linearmedhigh= linear_gen(name='linear', a =0.2, b = 1. )\n",
    "linearhigh= linear_gen(name='linear', a =0.7, b = 1.4 )"
   ]
  },
  {
   "cell_type": "code",
   "execution_count": 44,
   "metadata": {
    "collapsed": false
   },
   "outputs": [
    {
     "data": {
      "image/png": "[encoded data removed]",
      "text/plain": [
       "<matplotlib.figure.Figure at 0x10d42a210>"
      ]
     },
     "metadata": {},
     "output_type": "display_data"
    }
   ],
   "source": [
    "plt.hist(linearlow.rvs(z0 = 0.02, z1 = 0.05,size = 1000), alpha = 0.5)  \n",
    "plt.hist(linearmedlow.rvs(z0 = 0.05, z1 = 0.4,size = 1000), alpha = 0.5)  \n",
    "plt.hist(linearmedhigh.rvs(z0 = 0.2, z1 = 1.,size = 1000), alpha = 0.5) \n",
    "#linearmedhigh.rvs(a = 0.2, b = 1.,size = 100)\n",
    "plt.hist(linearhigh.rvs(z0 = 0.7, z1 = 1.4,size = 1000), alpha = 0.5)  \n",
    "plt.xlabel('redshift')\n",
    "plt.savefig('linear_redshifts.png')"
   ]
  },
  {
   "cell_type": "code",
   "execution_count": 45,
   "metadata": {
    "collapsed": false
   },
   "outputs": [
    {
     "data": {
      "image/png": "[encoded data removed]",
      "text/plain": [
       "<matplotlib.figure.Figure at 0x10f073e50>"
      ]
     },
     "metadata": {},
     "output_type": "display_data"
    }
   ],
   "source": [
    "plt.plot(np.linspace(0,1.5,10),stats.norm.sf(np.linspace(0,1.5,10), loc=0.08, scale=0.2))#0.08, 0.25, 0.6, 1.45 \n",
    "plt.plot(np.linspace(0,1.5,10),stats.norm.sf(np.linspace(0,1.5,10), loc=0.25, scale=0.2))\n",
    "plt.plot(np.linspace(0,1.5,10),stats.norm.sf(np.linspace(0,1.5,10), loc=0.6, scale=0.2))\n",
    "plt.plot(np.linspace(0,1.5,10), stats.norm.sf(np.linspace(0,1.5,10), loc=1.45, scale=0.2))\n",
    "plt.xlabel('redshift')\n",
    "plt.savefig('completeness.png')"
   ]
  },
  {
   "cell_type": "code",
   "execution_count": 25,
   "metadata": {
    "collapsed": false
   },
   "outputs": [],
   "source": [
    "low_z = []\n",
    "z_tot = []\n",
    "while len(low_z) < 250 :\n",
    "    z = linearlow.rvs(z0 = 0.02, z1 = 0.05,size = 1)\n",
    "    z_tot.append(z[0])\n",
    "    if stats.uniform.rvs(size=1)<stats.norm.sf(z[0], loc=0.08, scale=0.2):\n",
    "        delta_per_SN = delta(z)\n",
    "        if stats.uniform.rvs(size=1)>0.03:\n",
    "            mB = mB_center(z) #stats.norm.rvs(loc = mB_center(z), scale = 0.20,  size=1)\n",
    "            x1 = stats.norm.rvs(loc = 0.0, scale = 0.1,  size=1)\n",
    "            c = stats.exponnorm.rvs(loc = 0.0, scale = 0.1, K = 1.0, size=1)\n",
    "        else:\n",
    "            mB = stats.norm.rvs(loc = mB_center(z), scale = 1,  size=1)\n",
    "            x1 = stats.norm.rvs(loc = 0.0, scale = 2,  size=1)\n",
    "            c  = stats.norm.rvs(loc = 0.0, scale = 0.5,  size=1)\n",
    "        low_z.append([mB[0], x1[0], c[0], delta_per_SN[0], z])"
   ]
  },
  {
   "cell_type": "code",
   "execution_count": 26,
   "metadata": {
    "collapsed": false
   },
   "outputs": [],
   "source": [
    "medlow_z = []\n",
    "z_tot_ml = []\n",
    "while len(medlow_z) < 250 :\n",
    "    z = linearmedlow.rvs(z0 = 0.05, z1 = 0.4,size = 1)\n",
    "    z_tot_ml.append(z[0])\n",
    "    if stats.uniform.rvs(size=1)<stats.norm.sf(z[0], loc=0.25, scale=0.2):\n",
    "        delta_per_SN = delta(z)\n",
    "        if stats.uniform.rvs(size=1)>0.03:\n",
    "            mB = mB_center(z) #stats.norm.rvs(loc = mB_center(z), scale = 0.20,  size=1)\n",
    "            x1 = stats.norm.rvs(loc = 0.0, scale = 0.1,  size=1)\n",
    "            c = stats.exponnorm.rvs(loc = 0.0, scale = 0.1, K = 1.0, size=1)\n",
    "        else:\n",
    "            mB = stats.norm.rvs(loc = mB_center(z), scale = 1,  size=1)\n",
    "            x1 = stats.norm.rvs(loc = 0.0, scale = 2,  size=1)\n",
    "            c  = stats.norm.rvs(loc = 0.0, scale = 0.5,  size=1)\n",
    "        medlow_z.append([mB[0], x1[0], c[0], delta_per_SN[0], z])"
   ]
  },
  {
   "cell_type": "code",
   "execution_count": 27,
   "metadata": {
    "collapsed": false
   },
   "outputs": [],
   "source": [
    "medhigh_z = []\n",
    "z_tot_mh = []\n",
    "while len(medhigh_z) < 250 :\n",
    "    z = linearmedhigh.rvs(z0 = 0.2, z1 = 1.,size = 1)\n",
    "    z_tot_mh.append(z[0])\n",
    "    if stats.uniform.rvs(size=1)<stats.norm.sf(z[0], loc=0.6, scale=0.2):\n",
    "        delta_per_SN = delta(z)\n",
    "        if stats.uniform.rvs(size=1)>0.03:\n",
    "            mB = mB_center(z) #stats.norm.rvs(loc = mB_center(z), scale = 0.20,  size=1)\n",
    "            x1 = stats.norm.rvs(loc = 0.0, scale = 0.1,  size=1)\n",
    "            c = stats.exponnorm.rvs(loc = 0.0, scale = 0.1, K = 1.0, size=1)\n",
    "        else:\n",
    "            mB = stats.norm.rvs(loc = mB_center(z), scale = 1,  size=1)\n",
    "            x1 = stats.norm.rvs(loc = 0.0, scale = 2,  size=1)\n",
    "            c  = stats.norm.rvs(loc = 0.0, scale = 0.5,  size=1)\n",
    "        medhigh_z.append([mB[0], x1[0], c[0], delta_per_SN[0], z])"
   ]
  },
  {
   "cell_type": "code",
   "execution_count": 30,
   "metadata": {
    "collapsed": false
   },
   "outputs": [],
   "source": [
    "high_z = []\n",
    "z_tot_high = []\n",
    "while len(high_z) < 50 :\n",
    "    z = linearhigh.rvs(z0 = 0.7, z1 = 1.4,size = 1)\n",
    "    z_tot_high.append(z[0])\n",
    "    if stats.uniform.rvs(size=1)<stats.norm.sf(z[0], loc=1.45, scale=0.2):\n",
    "        delta_per_SN = delta(z)\n",
    "        if stats.uniform.rvs(size=1)>0.03:\n",
    "            mB = mB_center(z) #stats.norm.rvs(loc = mB_center(z), scale = 0.20,  size=1)\n",
    "            x1 = stats.norm.rvs(loc = 0.0, scale = 0.1,  size=1)\n",
    "            c = stats.exponnorm.rvs(loc = 0.0, scale = 0.1, K = 1.0, size=1)\n",
    "        else:\n",
    "            mB = stats.norm.rvs(loc = mB_center(z), scale = 1,  size=1)\n",
    "            x1 = stats.norm.rvs(loc = 0.0, scale = 2,  size=1)\n",
    "            c  = stats.norm.rvs(loc = 0.0, scale = 0.5,  size=1)\n",
    "        high_z.append([mB[0], x1[0], c[0], delta_per_SN[0], z])\n",
    "        "
   ]
  },
  {
   "cell_type": "code",
   "execution_count": 43,
   "metadata": {
    "collapsed": false
   },
   "outputs": [
    {
     "data": {
      "image/png": "[encoded data removed]",
      "text/plain": [
       "<matplotlib.figure.Figure at 0x10eafaf90>"
      ]
     },
     "metadata": {},
     "output_type": "display_data"
    }
   ],
   "source": [
    "plt.hist(z_tot, alpha = 0.3, color = 'b',  histtype='stepfilled')\n",
    "plt.hist(np.array(low_z)[:,-1], alpha = 0.5, color = 'b',  histtype='stepfilled')\n",
    "\n",
    "plt.hist(z_tot_ml, alpha = 0.5, color = 'g',  histtype='stepfilled')\n",
    "plt.hist(np.array(medlow_z)[:,-1], alpha = 0.5, color = 'g',  histtype='stepfilled')\n",
    "\n",
    "plt.hist(z_tot_mh, alpha = 0.3, color = 'c',  histtype='stepfilled')\n",
    "plt.hist(np.array(medhigh_z)[:,-1], alpha = 0.5, color = 'c',  histtype='stepfilled')\n",
    "\n",
    "plt.hist(z_tot_high, alpha = 0.3, color = 'r',  histtype='stepfilled')\n",
    "plt.hist(np.array(high_z)[:,-1], alpha = 0.5, color = 'r',  histtype='stepfilled')\n",
    "\n",
    "plt.xscale('log') \n",
    "plt.xlim(0.01,1.5 )\n",
    "plt.xlabel('redshift')\n",
    "plt.title('Redshift distribution with selection effects')\n",
    "#plt.savefig('redshift_selection.png')"
   ]
  },
  {
   "cell_type": "code",
   "execution_count": 42,
   "metadata": {
    "collapsed": false
   },
   "outputs": [
    {
     "data": {
      "text/plain": [
       "(-1, 0.8)"
      ]
     },
     "execution_count": 42,
     "metadata": {},
     "output_type": "execute_result"
    },
    {
     "data": {
      "image/png": "[encoded data removed]",
      "text/plain": [
       "<matplotlib.figure.Figure at 0x10e9b5690>"
      ]
     },
     "metadata": {},
     "output_type": "display_data"
    }
   ],
   "source": [
    "plt.scatter(np.array(low_z)[:,-1],np.array(low_z)[:,2], color = 'b')\n",
    "plt.scatter(np.array(medlow_z)[:,-1],np.array(medlow_z)[:,2], color = 'g')\n",
    "plt.scatter(np.array(medhigh_z)[:,-1],np.array(medhigh_z)[:,2], color = 'c')\n",
    "plt.scatter(np.array(high_z)[:,-1],np.array(high_z)[:,2], color = 'r')\n",
    "\n",
    "plt.xlim(0,1.5)\n",
    "plt.ylim(-1,0.8)"
   ]
  },
  {
   "cell_type": "code",
   "execution_count": 62,
   "metadata": {
    "collapsed": false
   },
   "outputs": [],
   "source": [
    "names = ['m_B', 'x1', 'c', 'z', 'delta', 'm_B_err', 'x1_err', 'c_err','unexplained_err','lensing_err', 'zp_err', 'peculiar_vel']\n",
    "#0.05 mB, 0.5 x1, 0.05 c, 0.1 mag unexplained, 0.093z mag of lensing dispersion, 300 km/s peculiar velocity zeropoint uncertainties: 0.01, 0.01, 0.01, 0.02\n",
    "def make_data():\n",
    "    low_z = []\n",
    "    z_tot = []\n",
    "    while len(low_z) < 250 :\n",
    "        z = linearlow.rvs(z0 = 0.02, z1 = 0.05,size = 1)\n",
    "        z_tot.append(z[0])\n",
    "        if stats.uniform.rvs(size=1)<stats.norm.sf(z[0], loc=0.08, scale=0.2):\n",
    "            if stats.uniform.rvs(size=1)>0.03:\n",
    "                mB = mB_center(z) #stats.norm.rvs(loc = mB_center(z), scale = 0.20,  size=1)\n",
    "                x1 = stats.norm.rvs(loc = 0.0, scale = 0.1,  size=1)\n",
    "                c = stats.exponnorm.rvs(loc = 0.0, scale = 0.1, K = 1.0, size=1)\n",
    "            else:\n",
    "                mB = stats.norm.rvs(loc = mB_center(z), scale = 1,  size=1)\n",
    "                x1 = stats.norm.rvs(loc = 0.0, scale = 2,  size=1)\n",
    "                c  = stats.norm.rvs(loc = 0.0, scale = 0.5,  size=1)\n",
    "            delta_per_SN = delta(z)\n",
    "            low_z.append([mB[0], x1[0], c[0], z, delta_per_SN[0],0.5,0.5,0.05,0.1, sigma_lens(z[0]), 0.01,300.])\n",
    "    medlow_z = []\n",
    "    z_tot_ml = []\n",
    "    while len(medlow_z) < 250 :\n",
    "        z = linearmedlow.rvs(z0 = 0.05, z1 = 0.4,size = 1)\n",
    "        z_tot_ml.append(z[0])\n",
    "        if stats.uniform.rvs(size=1)<stats.norm.sf(z[0], loc=0.25, scale=0.2):\n",
    "            delta_per_SN = delta(z)\n",
    "            if stats.uniform.rvs(size=1)>0.03:\n",
    "                mB = mB_center(z) #stats.norm.rvs(loc = mB_center(z), scale = 0.20,  size=1)\n",
    "                x1 = stats.norm.rvs(loc = 0.0, scale = 0.1,  size=1)\n",
    "                c = stats.exponnorm.rvs(loc = 0.0, scale = 0.1, K = 1.0, size=1)\n",
    "            else:\n",
    "                mB = stats.norm.rvs(loc = mB_center(z), scale = 1,  size=1)\n",
    "                x1 = stats.norm.rvs(loc = 0.0, scale = 2,  size=1)\n",
    "                c  = stats.norm.rvs(loc = 0.0, scale = 0.5,  size=1)\n",
    "        medlow_z.append([mB[0], x1[0], c[0], z, delta_per_SN[0],0.5,0.5,0.05,0.1, sigma_lens(z[0]), 0.01,300.])\n",
    "    medhigh_z = []\n",
    "    z_tot_mh = []\n",
    "    while len(medhigh_z) < 250 :\n",
    "        z = linearmedhigh.rvs(z0 = 0.2, z1 = 1.,size = 1)\n",
    "        z_tot_mh.append(z[0])\n",
    "        if stats.uniform.rvs(size=1)<stats.norm.sf(z[0], loc=0.6, scale=0.2):\n",
    "            delta_per_SN = delta(z)\n",
    "            if stats.uniform.rvs(size=1)>0.03:\n",
    "                mB = mB_center(z) #stats.norm.rvs(loc = mB_center(z), scale = 0.20,  size=1)\n",
    "                x1 = stats.norm.rvs(loc = 0.0, scale = 0.1,  size=1)\n",
    "                c = stats.exponnorm.rvs(loc = 0.0, scale = 0.1, K = 1.0, size=1)\n",
    "            else:\n",
    "                mB = stats.norm.rvs(loc = mB_center(z), scale = 1,  size=1)\n",
    "                x1 = stats.norm.rvs(loc = 0.0, scale = 2,  size=1)\n",
    "                c  = stats.norm.rvs(loc = 0.0, scale = 0.5,  size=1)\n",
    "            medhigh_z.append([mB[0], x1[0], c[0], z, delta_per_SN[0],0.5,0.5,0.05,0.1, sigma_lens(z[0]), 0.01,300.])\n",
    "    high_z = []\n",
    "    z_tot_high = []\n",
    "    while len(high_z) < 50 :\n",
    "        z = linearhigh.rvs(z0 = 0.7, z1 = 1.4,size = 1)\n",
    "        z_tot_high.append(z[0])\n",
    "        if stats.uniform.rvs(size=1)<stats.norm.sf(z[0], loc=1.45, scale=0.2):\n",
    "            delta_per_SN = delta(z)\n",
    "            if stats.uniform.rvs(size=1)>0.03:\n",
    "                mB = mB_center(z) #stats.norm.rvs(loc = mB_center(z), scale = 0.20,  size=1)\n",
    "                x1 = stats.norm.rvs(loc = 0.0, scale = 0.1,  size=1)\n",
    "                c = stats.exponnorm.rvs(loc = 0.0, scale = 0.1, K = 1.0, size=1)\n",
    "            else:\n",
    "                mB = stats.norm.rvs(loc = mB_center(z), scale = 1,  size=1)\n",
    "                x1 = stats.norm.rvs(loc = 0.0, scale = 2,  size=1)\n",
    "                c  = stats.norm.rvs(loc = 0.0, scale = 0.5,  size=1)\n",
    "            high_z.append([mB[0], x1[0], c[0], z, delta_per_SN[0],0.5,0.5,0.05,0.1, sigma_lens(z[0]), 0.02,300.])\n",
    "    t = Table(np.array(low_z + medlow_z + medhigh_z +high_z), names = names)\n",
    "    return t"
   ]
  },
  {
   "cell_type": "code",
   "execution_count": 65,
   "metadata": {
    "collapsed": false
   },
   "outputs": [],
   "source": [
    "t = make_data()"
   ]
  },
  {
   "cell_type": "code",
   "execution_count": 70,
   "metadata": {
    "collapsed": false
   },
   "outputs": [],
   "source": [
    "for i in range(30):\n",
    "    t = make_data()\n",
    "    t.write('../mock_data/dataset_%s.dat'%i, format='ascii')"
   ]
  },
  {
   "cell_type": "code",
   "execution_count": null,
   "metadata": {
    "collapsed": false
   },
   "outputs": [],
   "source": []
  },
  {
   "cell_type": "code",
   "execution_count": null,
   "metadata": {
    "collapsed": true
   },
   "outputs": [],
   "source": []
  },
  {
   "cell_type": "code",
   "execution_count": null,
   "metadata": {
    "collapsed": false
   },
   "outputs": [],
   "source": []
  },
  {
   "cell_type": "code",
   "execution_count": null,
   "metadata": {
    "collapsed": true
   },
   "outputs": [],
   "source": []
  }
 ],
 "metadata": {
  "kernelspec": {
   "display_name": "Python 2",
   "language": "python",
   "name": "python2"
  },
  "language_info": {
   "codemirror_mode": {
    "name": "ipython",
    "version": 2
   },
   "file_extension": ".py",
   "mimetype": "text/x-python",
   "name": "python",
   "nbconvert_exporter": "python",
   "pygments_lexer": "ipython2",
   "version": "2.7.12"
  }
 },
 "nbformat": 4,
 "nbformat_minor": 0
}
